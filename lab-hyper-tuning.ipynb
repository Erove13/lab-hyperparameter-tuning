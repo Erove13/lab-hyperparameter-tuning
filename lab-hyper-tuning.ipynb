{
 "cells": [
  {
   "cell_type": "markdown",
   "metadata": {},
   "source": [
    "# LAB | Hyperparameter Tuning"
   ]
  },
  {
   "cell_type": "markdown",
   "metadata": {},
   "source": [
    "**Load the data**\n",
    "\n",
    "Finally step in order to maximize the performance on your Spaceship Titanic model.\n",
    "\n",
    "The data can be found here:\n",
    "\n",
    "https://raw.githubusercontent.com/data-bootcamp-v4/data/main/spaceship_titanic.csv\n",
    "\n",
    "Metadata\n",
    "\n",
    "https://github.com/data-bootcamp-v4/data/blob/main/spaceship_titanic.md"
   ]
  },
  {
   "cell_type": "markdown",
   "metadata": {},
   "source": [
    "So far we've been training and evaluating models with default values for hyperparameters.\n",
    "\n",
    "Today we will perform the same feature engineering as before, and then compare the best working models you got so far, but now fine tuning it's hyperparameters."
   ]
  },
  {
   "cell_type": "code",
   "execution_count": 1,
   "metadata": {},
   "outputs": [],
   "source": [
    "#Libraries\n",
    "import pandas as pd\n",
    "import numpy as np\n",
    "from sklearn.model_selection import train_test_split\n",
    "\n",
    "from sklearn.ensemble import RandomForestClassifier\n",
    "from sklearn.model_selection import GridSearchCV"
   ]
  },
  {
   "cell_type": "code",
   "execution_count": 2,
   "metadata": {},
   "outputs": [
    {
     "data": {
      "application/vnd.microsoft.datawrangler.viewer.v0+json": {
       "columns": [
        {
         "name": "index",
         "rawType": "int64",
         "type": "integer"
        },
        {
         "name": "PassengerId",
         "rawType": "object",
         "type": "string"
        },
        {
         "name": "HomePlanet",
         "rawType": "object",
         "type": "string"
        },
        {
         "name": "CryoSleep",
         "rawType": "object",
         "type": "unknown"
        },
        {
         "name": "Cabin",
         "rawType": "object",
         "type": "string"
        },
        {
         "name": "Destination",
         "rawType": "object",
         "type": "string"
        },
        {
         "name": "Age",
         "rawType": "float64",
         "type": "float"
        },
        {
         "name": "VIP",
         "rawType": "object",
         "type": "unknown"
        },
        {
         "name": "RoomService",
         "rawType": "float64",
         "type": "float"
        },
        {
         "name": "FoodCourt",
         "rawType": "float64",
         "type": "float"
        },
        {
         "name": "ShoppingMall",
         "rawType": "float64",
         "type": "float"
        },
        {
         "name": "Spa",
         "rawType": "float64",
         "type": "float"
        },
        {
         "name": "VRDeck",
         "rawType": "float64",
         "type": "float"
        },
        {
         "name": "Name",
         "rawType": "object",
         "type": "string"
        },
        {
         "name": "Transported",
         "rawType": "bool",
         "type": "boolean"
        }
       ],
       "conversionMethod": "pd.DataFrame",
       "ref": "1edbbfac-8c9e-479a-b167-24bb98fecc92",
       "rows": [
        [
         "0",
         "0001_01",
         "Europa",
         "False",
         "B/0/P",
         "TRAPPIST-1e",
         "39.0",
         "False",
         "0.0",
         "0.0",
         "0.0",
         "0.0",
         "0.0",
         "Maham Ofracculy",
         "False"
        ],
        [
         "1",
         "0002_01",
         "Earth",
         "False",
         "F/0/S",
         "TRAPPIST-1e",
         "24.0",
         "False",
         "109.0",
         "9.0",
         "25.0",
         "549.0",
         "44.0",
         "Juanna Vines",
         "True"
        ],
        [
         "2",
         "0003_01",
         "Europa",
         "False",
         "A/0/S",
         "TRAPPIST-1e",
         "58.0",
         "True",
         "43.0",
         "3576.0",
         "0.0",
         "6715.0",
         "49.0",
         "Altark Susent",
         "False"
        ],
        [
         "3",
         "0003_02",
         "Europa",
         "False",
         "A/0/S",
         "TRAPPIST-1e",
         "33.0",
         "False",
         "0.0",
         "1283.0",
         "371.0",
         "3329.0",
         "193.0",
         "Solam Susent",
         "False"
        ],
        [
         "4",
         "0004_01",
         "Earth",
         "False",
         "F/1/S",
         "TRAPPIST-1e",
         "16.0",
         "False",
         "303.0",
         "70.0",
         "151.0",
         "565.0",
         "2.0",
         "Willy Santantines",
         "True"
        ]
       ],
       "shape": {
        "columns": 14,
        "rows": 5
       }
      },
      "text/html": [
       "<div>\n",
       "<style scoped>\n",
       "    .dataframe tbody tr th:only-of-type {\n",
       "        vertical-align: middle;\n",
       "    }\n",
       "\n",
       "    .dataframe tbody tr th {\n",
       "        vertical-align: top;\n",
       "    }\n",
       "\n",
       "    .dataframe thead th {\n",
       "        text-align: right;\n",
       "    }\n",
       "</style>\n",
       "<table border=\"1\" class=\"dataframe\">\n",
       "  <thead>\n",
       "    <tr style=\"text-align: right;\">\n",
       "      <th></th>\n",
       "      <th>PassengerId</th>\n",
       "      <th>HomePlanet</th>\n",
       "      <th>CryoSleep</th>\n",
       "      <th>Cabin</th>\n",
       "      <th>Destination</th>\n",
       "      <th>Age</th>\n",
       "      <th>VIP</th>\n",
       "      <th>RoomService</th>\n",
       "      <th>FoodCourt</th>\n",
       "      <th>ShoppingMall</th>\n",
       "      <th>Spa</th>\n",
       "      <th>VRDeck</th>\n",
       "      <th>Name</th>\n",
       "      <th>Transported</th>\n",
       "    </tr>\n",
       "  </thead>\n",
       "  <tbody>\n",
       "    <tr>\n",
       "      <th>0</th>\n",
       "      <td>0001_01</td>\n",
       "      <td>Europa</td>\n",
       "      <td>False</td>\n",
       "      <td>B/0/P</td>\n",
       "      <td>TRAPPIST-1e</td>\n",
       "      <td>39.0</td>\n",
       "      <td>False</td>\n",
       "      <td>0.0</td>\n",
       "      <td>0.0</td>\n",
       "      <td>0.0</td>\n",
       "      <td>0.0</td>\n",
       "      <td>0.0</td>\n",
       "      <td>Maham Ofracculy</td>\n",
       "      <td>False</td>\n",
       "    </tr>\n",
       "    <tr>\n",
       "      <th>1</th>\n",
       "      <td>0002_01</td>\n",
       "      <td>Earth</td>\n",
       "      <td>False</td>\n",
       "      <td>F/0/S</td>\n",
       "      <td>TRAPPIST-1e</td>\n",
       "      <td>24.0</td>\n",
       "      <td>False</td>\n",
       "      <td>109.0</td>\n",
       "      <td>9.0</td>\n",
       "      <td>25.0</td>\n",
       "      <td>549.0</td>\n",
       "      <td>44.0</td>\n",
       "      <td>Juanna Vines</td>\n",
       "      <td>True</td>\n",
       "    </tr>\n",
       "    <tr>\n",
       "      <th>2</th>\n",
       "      <td>0003_01</td>\n",
       "      <td>Europa</td>\n",
       "      <td>False</td>\n",
       "      <td>A/0/S</td>\n",
       "      <td>TRAPPIST-1e</td>\n",
       "      <td>58.0</td>\n",
       "      <td>True</td>\n",
       "      <td>43.0</td>\n",
       "      <td>3576.0</td>\n",
       "      <td>0.0</td>\n",
       "      <td>6715.0</td>\n",
       "      <td>49.0</td>\n",
       "      <td>Altark Susent</td>\n",
       "      <td>False</td>\n",
       "    </tr>\n",
       "    <tr>\n",
       "      <th>3</th>\n",
       "      <td>0003_02</td>\n",
       "      <td>Europa</td>\n",
       "      <td>False</td>\n",
       "      <td>A/0/S</td>\n",
       "      <td>TRAPPIST-1e</td>\n",
       "      <td>33.0</td>\n",
       "      <td>False</td>\n",
       "      <td>0.0</td>\n",
       "      <td>1283.0</td>\n",
       "      <td>371.0</td>\n",
       "      <td>3329.0</td>\n",
       "      <td>193.0</td>\n",
       "      <td>Solam Susent</td>\n",
       "      <td>False</td>\n",
       "    </tr>\n",
       "    <tr>\n",
       "      <th>4</th>\n",
       "      <td>0004_01</td>\n",
       "      <td>Earth</td>\n",
       "      <td>False</td>\n",
       "      <td>F/1/S</td>\n",
       "      <td>TRAPPIST-1e</td>\n",
       "      <td>16.0</td>\n",
       "      <td>False</td>\n",
       "      <td>303.0</td>\n",
       "      <td>70.0</td>\n",
       "      <td>151.0</td>\n",
       "      <td>565.0</td>\n",
       "      <td>2.0</td>\n",
       "      <td>Willy Santantines</td>\n",
       "      <td>True</td>\n",
       "    </tr>\n",
       "  </tbody>\n",
       "</table>\n",
       "</div>"
      ],
      "text/plain": [
       "  PassengerId HomePlanet CryoSleep  Cabin  Destination   Age    VIP  \\\n",
       "0     0001_01     Europa     False  B/0/P  TRAPPIST-1e  39.0  False   \n",
       "1     0002_01      Earth     False  F/0/S  TRAPPIST-1e  24.0  False   \n",
       "2     0003_01     Europa     False  A/0/S  TRAPPIST-1e  58.0   True   \n",
       "3     0003_02     Europa     False  A/0/S  TRAPPIST-1e  33.0  False   \n",
       "4     0004_01      Earth     False  F/1/S  TRAPPIST-1e  16.0  False   \n",
       "\n",
       "   RoomService  FoodCourt  ShoppingMall     Spa  VRDeck               Name  \\\n",
       "0          0.0        0.0           0.0     0.0     0.0    Maham Ofracculy   \n",
       "1        109.0        9.0          25.0   549.0    44.0       Juanna Vines   \n",
       "2         43.0     3576.0           0.0  6715.0    49.0      Altark Susent   \n",
       "3          0.0     1283.0         371.0  3329.0   193.0       Solam Susent   \n",
       "4        303.0       70.0         151.0   565.0     2.0  Willy Santantines   \n",
       "\n",
       "   Transported  \n",
       "0        False  \n",
       "1         True  \n",
       "2        False  \n",
       "3        False  \n",
       "4         True  "
      ]
     },
     "execution_count": 2,
     "metadata": {},
     "output_type": "execute_result"
    }
   ],
   "source": [
    "spaceship = pd.read_csv(\"https://raw.githubusercontent.com/data-bootcamp-v4/data/main/spaceship_titanic.csv\")\n",
    "spaceship.head()"
   ]
  },
  {
   "cell_type": "markdown",
   "metadata": {},
   "source": [
    "Now perform the same as before:\n",
    "- Feature Scaling\n",
    "- Feature Selection\n"
   ]
  },
  {
   "cell_type": "code",
   "execution_count": 9,
   "metadata": {},
   "outputs": [
    {
     "name": "stdout",
     "output_type": "stream",
     "text": [
      "[[-5.77428657e-02 -3.40589867e-01  3.06649292e-01 -2.69022628e-01\n",
      "   9.42847454e-01 -5.69867136e-01  7.73480278e-01 -7.32770025e-01\n",
      "  -5.11013194e-01  6.85312647e-01]\n",
      " [-8.24922656e-01 -3.40589867e-01 -2.76663422e-01 -2.69022628e-01\n",
      "   9.42847454e-01 -5.69867136e-01  7.73480278e-01 -7.32770025e-01\n",
      "  -5.11013194e-01  6.85312647e-01]\n",
      " [-5.77428657e-02 -3.40589867e-01 -2.76663422e-01 -2.69022628e-01\n",
      "  -1.06061696e+00  1.75479500e+00 -1.29285779e+00  1.36468464e+00\n",
      "   1.95689664e+00 -1.45918801e+00]\n",
      " [-6.15691804e-01  4.30826867e-17  5.91192079e-01 -2.69022628e-01\n",
      "  -1.06061696e+00 -5.69867136e-01  7.73480278e-01 -7.32770025e-01\n",
      "  -5.11013194e-01  6.85312647e-01]\n",
      " [ 5.00206073e-01 -3.40589867e-01 -2.76663422e-01 -2.69022628e-01\n",
      "  -1.06061696e+00  1.75479500e+00 -1.29285779e+00  1.36468464e+00\n",
      "   1.95689664e+00 -1.45918801e+00]]\n"
     ]
    }
   ],
   "source": [
    "import pandas as pd\n",
    "from sklearn.preprocessing import StandardScaler\n",
    "from sklearn.model_selection import train_test_split\n",
    "from sklearn.feature_selection import SelectKBest, f_classif\n",
    "from sklearn.impute import SimpleImputer\n",
    "\n",
    "# Cargar los datos\n",
    "spaceship = pd.read_csv(\"https://raw.githubusercontent.com/data-bootcamp-v4/data/main/spaceship_titanic.csv\")\n",
    "\n",
    "# Convertir las variables categóricas a numéricas usando One-Hot Encoding\n",
    "spaceship_encoded = pd.get_dummies(spaceship)\n",
    "\n",
    "# Separar las características (X) y la variable objetivo (y)\n",
    "X = spaceship_encoded.drop('Transported', axis=1)\n",
    "y = spaceship_encoded['Transported']\n",
    "\n",
    "# 1. Imputar valores faltantes (NaN) usando la media de cada columna\n",
    "imputer = SimpleImputer(strategy='mean')\n",
    "X_imputed = imputer.fit_transform(X)\n",
    "\n",
    "# 2. Escalado de características\n",
    "scaler = StandardScaler()\n",
    "X_scaled = scaler.fit_transform(X_imputed)\n",
    "\n",
    "# 3. Selección de características (usamos SelectKBest para seleccionar las mejores características)\n",
    "selector = SelectKBest(f_classif, k=10)  # Seleccionamos las 10 mejores características\n",
    "X_selected = selector.fit_transform(X_scaled, y)\n",
    "\n",
    "# Dividir el conjunto de datos en conjunto de entrenamiento y conjunto de prueba\n",
    "X_train, X_test, y_train, y_test = train_test_split(X_selected, y, test_size=0.2, random_state=42)\n",
    "\n",
    "# Mostrar las primeras filas de X_train escaladas\n",
    "print(X_train[:5])\n"
   ]
  },
  {
   "cell_type": "markdown",
   "metadata": {},
   "source": [
    "- Now let's use the best model we got so far in order to see how it can improve when we fine tune it's hyperparameters."
   ]
  },
  {
   "cell_type": "code",
   "execution_count": 10,
   "metadata": {},
   "outputs": [],
   "source": [
    "from sklearn.ensemble import RandomForestClassifier\n",
    "from sklearn.model_selection import GridSearchCV\n",
    "\n",
    "# Definir el modelo Random Forest\n",
    "rf_model = RandomForestClassifier(random_state=42)\n",
    "\n",
    "# Definir el espacio de hiperparámetros que vamos a explorar\n",
    "param_grid = {\n",
    "    'n_estimators': [50, 100, 150],  # Número de árboles\n",
    "    'max_depth': [None, 10, 20, 30],  # Profundidad máxima de los árboles\n",
    "    'max_features': ['auto', 'sqrt', 'log2'],  # Número de características a considerar\n",
    "    'min_samples_split': [2, 5, 10],  # Número mínimo de muestras para dividir un nodo\n",
    "    'min_samples_leaf': [1, 2, 4],    # Número mínimo de muestras en un nodo hoja\n",
    "    'bootstrap': [True, False]        # Si usar o no bootstrap\n",
    "}\n"
   ]
  },
  {
   "cell_type": "markdown",
   "metadata": {},
   "source": [
    "- Evaluate your model"
   ]
  },
  {
   "cell_type": "code",
   "execution_count": 11,
   "metadata": {},
   "outputs": [
    {
     "name": "stdout",
     "output_type": "stream",
     "text": [
      "Precisión del modelo base: 0.7487\n"
     ]
    }
   ],
   "source": [
    "from sklearn.metrics import accuracy_score\n",
    "\n",
    "# Entrenamiento inicial con el modelo sin optimización\n",
    "rf_model.fit(X_train, y_train)\n",
    "\n",
    "# Predicción con el conjunto de prueba\n",
    "y_pred = rf_model.predict(X_test)\n",
    "\n",
    "# Evaluar la precisión\n",
    "accuracy = accuracy_score(y_test, y_pred)\n",
    "print(f\"Precisión del modelo base: {accuracy:.4f}\")\n"
   ]
  },
  {
   "cell_type": "markdown",
   "metadata": {},
   "source": [
    "**Grid/Random Search**"
   ]
  },
  {
   "cell_type": "markdown",
   "metadata": {},
   "source": [
    "For this lab we will use Grid Search."
   ]
  },
  {
   "cell_type": "markdown",
   "metadata": {},
   "source": [
    "- Define hyperparameters to fine tune."
   ]
  },
  {
   "cell_type": "code",
   "execution_count": null,
   "metadata": {},
   "outputs": [],
   "source": [
    "#your code here\n",
    "# Configurar GridSearchCV para buscar los mejores hiperparámetros\n",
    "grid_search = GridSearchCV(estimator=rf_model, param_grid=param_grid,\n",
    "                           cv=5, n_jobs=-1, verbose=2)\n"
   ]
  },
  {
   "cell_type": "markdown",
   "metadata": {},
   "source": [
    "- Run Grid Search"
   ]
  },
  {
   "cell_type": "code",
   "execution_count": 13,
   "metadata": {},
   "outputs": [
    {
     "name": "stdout",
     "output_type": "stream",
     "text": [
      "Fitting 5 folds for each of 648 candidates, totalling 3240 fits\n"
     ]
    },
    {
     "name": "stderr",
     "output_type": "stream",
     "text": [
      "c:\\Users\\Ema\\AppData\\Local\\Programs\\Python\\Python312\\Lib\\site-packages\\sklearn\\model_selection\\_validation.py:528: FitFailedWarning: \n",
      "1080 fits failed out of a total of 3240.\n",
      "The score on these train-test partitions for these parameters will be set to nan.\n",
      "If these failures are not expected, you can try to debug them by setting error_score='raise'.\n",
      "\n",
      "Below are more details about the failures:\n",
      "--------------------------------------------------------------------------------\n",
      "622 fits failed with the following error:\n",
      "Traceback (most recent call last):\n",
      "  File \"c:\\Users\\Ema\\AppData\\Local\\Programs\\Python\\Python312\\Lib\\site-packages\\sklearn\\model_selection\\_validation.py\", line 866, in _fit_and_score\n",
      "    estimator.fit(X_train, y_train, **fit_params)\n",
      "  File \"c:\\Users\\Ema\\AppData\\Local\\Programs\\Python\\Python312\\Lib\\site-packages\\sklearn\\base.py\", line 1382, in wrapper\n",
      "    estimator._validate_params()\n",
      "  File \"c:\\Users\\Ema\\AppData\\Local\\Programs\\Python\\Python312\\Lib\\site-packages\\sklearn\\base.py\", line 436, in _validate_params\n",
      "    validate_parameter_constraints(\n",
      "  File \"c:\\Users\\Ema\\AppData\\Local\\Programs\\Python\\Python312\\Lib\\site-packages\\sklearn\\utils\\_param_validation.py\", line 98, in validate_parameter_constraints\n",
      "    raise InvalidParameterError(\n",
      "sklearn.utils._param_validation.InvalidParameterError: The 'max_features' parameter of RandomForestClassifier must be an int in the range [1, inf), a float in the range (0.0, 1.0], a str among {'log2', 'sqrt'} or None. Got 'auto' instead.\n",
      "\n",
      "--------------------------------------------------------------------------------\n",
      "458 fits failed with the following error:\n",
      "Traceback (most recent call last):\n",
      "  File \"c:\\Users\\Ema\\AppData\\Local\\Programs\\Python\\Python312\\Lib\\site-packages\\sklearn\\model_selection\\_validation.py\", line 866, in _fit_and_score\n",
      "    estimator.fit(X_train, y_train, **fit_params)\n",
      "  File \"c:\\Users\\Ema\\AppData\\Local\\Programs\\Python\\Python312\\Lib\\site-packages\\sklearn\\base.py\", line 1382, in wrapper\n",
      "    estimator._validate_params()\n",
      "  File \"c:\\Users\\Ema\\AppData\\Local\\Programs\\Python\\Python312\\Lib\\site-packages\\sklearn\\base.py\", line 436, in _validate_params\n",
      "    validate_parameter_constraints(\n",
      "  File \"c:\\Users\\Ema\\AppData\\Local\\Programs\\Python\\Python312\\Lib\\site-packages\\sklearn\\utils\\_param_validation.py\", line 98, in validate_parameter_constraints\n",
      "    raise InvalidParameterError(\n",
      "sklearn.utils._param_validation.InvalidParameterError: The 'max_features' parameter of RandomForestClassifier must be an int in the range [1, inf), a float in the range (0.0, 1.0], a str among {'sqrt', 'log2'} or None. Got 'auto' instead.\n",
      "\n",
      "  warnings.warn(some_fits_failed_message, FitFailedWarning)\n",
      "c:\\Users\\Ema\\AppData\\Local\\Programs\\Python\\Python312\\Lib\\site-packages\\sklearn\\model_selection\\_search.py:1107: UserWarning: One or more of the test scores are non-finite: [       nan        nan        nan        nan        nan        nan\n",
      "        nan        nan        nan        nan        nan        nan\n",
      "        nan        nan        nan        nan        nan        nan\n",
      "        nan        nan        nan        nan        nan        nan\n",
      "        nan        nan        nan 0.7720734  0.7750924  0.77739373\n",
      " 0.77653135 0.78012661 0.78156442 0.78257214 0.78602341 0.78487264\n",
      " 0.78444119 0.78602362 0.7861674  0.7844414  0.78803645 0.78832422\n",
      " 0.78559248 0.78674314 0.78731796 0.78789288 0.78875546 0.79048156\n",
      " 0.78789288 0.78875546 0.79048156 0.7886121  0.78976266 0.78904334\n",
      " 0.7720734  0.7750924  0.77739373 0.77653135 0.78012661 0.78156442\n",
      " 0.78257214 0.78602341 0.78487264 0.78444119 0.78602362 0.7861674\n",
      " 0.7844414  0.78803645 0.78832422 0.78559248 0.78674314 0.78731796\n",
      " 0.78789288 0.78875546 0.79048156 0.78789288 0.78875546 0.79048156\n",
      " 0.7886121  0.78976266 0.78904334        nan        nan        nan\n",
      "        nan        nan        nan        nan        nan        nan\n",
      "        nan        nan        nan        nan        nan        nan\n",
      "        nan        nan        nan        nan        nan        nan\n",
      "        nan        nan        nan        nan        nan        nan\n",
      " 0.79019379 0.79077006 0.79076985 0.7901941  0.79062555 0.78976266\n",
      " 0.79019431 0.79206347 0.79062555 0.79048208 0.79033799 0.79005053\n",
      " 0.78832505 0.79005022 0.79120058 0.79249513 0.79307004 0.79263891\n",
      " 0.78933152 0.79206326 0.79191948 0.78933152 0.79206326 0.79191948\n",
      " 0.79105731 0.79220787 0.79378968 0.79019379 0.79077006 0.79076985\n",
      " 0.7901941  0.79062555 0.78976266 0.79019431 0.79206347 0.79062555\n",
      " 0.79048208 0.79033799 0.79005053 0.78832505 0.79005022 0.79120058\n",
      " 0.79249513 0.79307004 0.79263891 0.78933152 0.79206326 0.79191948\n",
      " 0.78933152 0.79206326 0.79191948 0.79105731 0.79220787 0.79378968\n",
      "        nan        nan        nan        nan        nan        nan\n",
      "        nan        nan        nan        nan        nan        nan\n",
      "        nan        nan        nan        nan        nan        nan\n",
      "        nan        nan        nan        nan        nan        nan\n",
      "        nan        nan        nan 0.778256   0.7775371  0.77940688\n",
      " 0.78199618 0.7832898  0.78472855 0.78400995 0.78458497 0.78631025\n",
      " 0.78386627 0.78746102 0.78918681 0.78444181 0.78861189 0.78789298\n",
      " 0.78803718 0.78803676 0.78832422 0.78947489 0.7884679  0.78904344\n",
      " 0.78947489 0.7884679  0.78904344 0.78976266 0.78976297 0.79062586\n",
      " 0.778256   0.7775371  0.77940688 0.78199618 0.7832898  0.78472855\n",
      " 0.78400995 0.78458497 0.78631025 0.78386627 0.78746102 0.78918681\n",
      " 0.78444181 0.78861189 0.78789298 0.78803718 0.78803676 0.78832422\n",
      " 0.78947489 0.7884679  0.78904344 0.78947489 0.7884679  0.78904344\n",
      " 0.78976266 0.78976297 0.79062586        nan        nan        nan\n",
      "        nan        nan        nan        nan        nan        nan\n",
      "        nan        nan        nan        nan        nan        nan\n",
      "        nan        nan        nan        nan        nan        nan\n",
      "        nan        nan        nan        nan        nan        nan\n",
      " 0.7753811  0.77609939 0.77667472 0.77782538 0.78113287 0.7809892\n",
      " 0.78357871 0.78559217 0.78631066 0.78329084 0.78645475 0.78659905\n",
      " 0.78516051 0.78875526 0.78818044 0.78616791 0.78717459 0.78731827\n",
      " 0.78818044 0.78875546 0.79091291 0.78818044 0.78875546 0.79091291\n",
      " 0.78846831 0.78990644 0.78904334 0.7753811  0.77609939 0.77667472\n",
      " 0.77782538 0.78113287 0.7809892  0.78357871 0.78559217 0.78631066\n",
      " 0.78329084 0.78645475 0.78659905 0.78516051 0.78875526 0.78818044\n",
      " 0.78616791 0.78717459 0.78731827 0.78818044 0.78875546 0.79091291\n",
      " 0.78818044 0.78875546 0.79091291 0.78846831 0.78990644 0.78904334\n",
      "        nan        nan        nan        nan        nan        nan\n",
      "        nan        nan        nan        nan        nan        nan\n",
      "        nan        nan        nan        nan        nan        nan\n",
      "        nan        nan        nan        nan        nan        nan\n",
      "        nan        nan        nan 0.76401947 0.76430693 0.76358812\n",
      " 0.76488257 0.76732727 0.76833415 0.77653114 0.77610001 0.77523732\n",
      " 0.77969578 0.78098992 0.78027091 0.777826   0.77926392 0.77811336\n",
      " 0.78329022 0.7817081  0.78199546 0.78746091 0.78717345 0.78760511\n",
      " 0.78746091 0.78717345 0.78760511 0.79091218 0.79048074 0.79033685\n",
      " 0.76401947 0.76430693 0.76358812 0.76488257 0.76732727 0.76833415\n",
      " 0.77653114 0.77610001 0.77523732 0.77969578 0.78098992 0.78027091\n",
      " 0.777826   0.77926392 0.77811336 0.78329022 0.7817081  0.78199546\n",
      " 0.78746091 0.78717345 0.78760511 0.78746091 0.78717345 0.78760511\n",
      " 0.79091218 0.79048074 0.79033685        nan        nan        nan\n",
      "        nan        nan        nan        nan        nan        nan\n",
      "        nan        nan        nan        nan        nan        nan\n",
      "        nan        nan        nan        nan        nan        nan\n",
      "        nan        nan        nan        nan        nan        nan\n",
      " 0.78472938 0.78703081 0.78832474 0.78918753 0.78976286 0.79033789\n",
      " 0.79005032 0.7886123  0.78976245 0.78961898 0.78889997 0.78832495\n",
      " 0.79005053 0.79076975 0.79005043 0.78918784 0.79076954 0.79134446\n",
      " 0.79105731 0.7903382  0.7903382  0.79105731 0.7903382  0.7903382\n",
      " 0.79163223 0.79148814 0.79177591 0.78472938 0.78703081 0.78832474\n",
      " 0.78918753 0.78976286 0.79033789 0.79005032 0.7886123  0.78976245\n",
      " 0.78961898 0.78889997 0.78832495 0.79005053 0.79076975 0.79005043\n",
      " 0.78918784 0.79076954 0.79134446 0.79105731 0.7903382  0.7903382\n",
      " 0.79105731 0.7903382  0.7903382  0.79163223 0.79148814 0.79177591\n",
      "        nan        nan        nan        nan        nan        nan\n",
      "        nan        nan        nan        nan        nan        nan\n",
      "        nan        nan        nan        nan        nan        nan\n",
      "        nan        nan        nan        nan        nan        nan\n",
      "        nan        nan        nan 0.7689098  0.76833436 0.77149786\n",
      " 0.77423074 0.77336723 0.77466167 0.78113308 0.78228385 0.78156474\n",
      " 0.7779702  0.78070215 0.7811337  0.78055816 0.77883206 0.7809894\n",
      " 0.78199598 0.78472824 0.78429648 0.78746133 0.78904344 0.78875546\n",
      " 0.78746133 0.78904344 0.78875546 0.78990582 0.79105617 0.79134363\n",
      " 0.7689098  0.76833436 0.77149786 0.77423074 0.77336723 0.77466167\n",
      " 0.78113308 0.78228385 0.78156474 0.7779702  0.78070215 0.7811337\n",
      " 0.78055816 0.77883206 0.7809894  0.78199598 0.78472824 0.78429648\n",
      " 0.78746133 0.78904344 0.78875546 0.78746133 0.78904344 0.78875546\n",
      " 0.78990582 0.79105617 0.79134363        nan        nan        nan\n",
      "        nan        nan        nan        nan        nan        nan\n",
      "        nan        nan        nan        nan        nan        nan\n",
      "        nan        nan        nan        nan        nan        nan\n",
      "        nan        nan        nan        nan        nan        nan\n",
      " 0.76358781 0.76445112 0.76301289 0.76603334 0.76761493 0.76761524\n",
      " 0.77725015 0.77653145 0.77624379 0.77768274 0.78113349 0.78027112\n",
      " 0.77868838 0.77897626 0.77753823 0.78314643 0.78185199 0.78300203\n",
      " 0.78688579 0.78674211 0.78760521 0.78688579 0.78674211 0.78760521\n",
      " 0.79105597 0.79048074 0.79033685 0.76358781 0.76445112 0.76301289\n",
      " 0.76603334 0.76761493 0.76761524 0.77725015 0.77653145 0.77624379\n",
      " 0.77768274 0.78113349 0.78027112 0.77868838 0.77897626 0.77753823\n",
      " 0.78314643 0.78185199 0.78300203 0.78688579 0.78674211 0.78760521\n",
      " 0.78688579 0.78674211 0.78760521 0.79105597 0.79048074 0.79033685]\n",
      "  warnings.warn(\n"
     ]
    },
    {
     "name": "stdout",
     "output_type": "stream",
     "text": [
      "Mejores hiperparámetros encontrados: {'bootstrap': True, 'max_depth': 10, 'max_features': 'sqrt', 'min_samples_leaf': 4, 'min_samples_split': 10, 'n_estimators': 150}\n"
     ]
    }
   ],
   "source": [
    "# Ejecutar Grid Search\n",
    "grid_search.fit(X_train, y_train)\n",
    "\n",
    "# Mostrar los mejores hiperparámetros encontrados\n",
    "print(f\"Mejores hiperparámetros encontrados: {grid_search.best_params_}\")\n"
   ]
  },
  {
   "cell_type": "markdown",
   "metadata": {},
   "source": [
    "- Evaluate your model"
   ]
  },
  {
   "cell_type": "code",
   "execution_count": 14,
   "metadata": {},
   "outputs": [
    {
     "name": "stdout",
     "output_type": "stream",
     "text": [
      "Precisión del modelo ajustado: 0.7763\n"
     ]
    }
   ],
   "source": [
    "# Obtener el mejor modelo de la búsqueda\n",
    "best_rf_model = grid_search.best_estimator_\n",
    "\n",
    "# Predicción con el conjunto de prueba usando el mejor modelo\n",
    "y_pred_best = best_rf_model.predict(X_test)\n",
    "\n",
    "# Evaluar la precisión del modelo ajustado\n",
    "accuracy_best = accuracy_score(y_test, y_pred_best)\n",
    "print(f\"Precisión del modelo ajustado: {accuracy_best:.4f}\")\n"
   ]
  }
 ],
 "metadata": {
  "kernelspec": {
   "display_name": "Python 3",
   "language": "python",
   "name": "python3"
  },
  "language_info": {
   "codemirror_mode": {
    "name": "ipython",
    "version": 3
   },
   "file_extension": ".py",
   "mimetype": "text/x-python",
   "name": "python",
   "nbconvert_exporter": "python",
   "pygments_lexer": "ipython3",
   "version": "3.12.1"
  }
 },
 "nbformat": 4,
 "nbformat_minor": 2
}
